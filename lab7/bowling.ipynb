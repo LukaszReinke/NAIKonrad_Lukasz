{
  "cells": [
    {
      "cell_type": "markdown",
      "metadata": {
        "id": "rwPSsgP-FZSv"
      },
      "source": [
        "Authors: Łukasz Reinke <s15037@pjwstk.edu.pl>, Konrad Chrzanowski <s17404@pjwstk.edu.pl>\n",
        "\n",
        "Problem: Train AI to play bowling game\n",
        "\n",
        "Followed by: github user @deepanshut041"
      ]
    },
    {
      "cell_type": "markdown",
      "metadata": {
        "id": "-hKiyxTED9WK"
      },
      "source": [
        "# install os dependencies to display env"
      ]
    },
    {
      "cell_type": "code",
      "execution_count": 2,
      "metadata": {
        "colab": {
          "base_uri": "https://localhost:8080/"
        },
        "id": "w_GgfUrEvmVT",
        "outputId": "798758f0-f45b-4868-f6f2-ed8212ad2a88"
      },
      "outputs": [
        {
          "name": "stdout",
          "output_type": "stream",
          "text": [
            "Reading package lists... Done\n",
            "Building dependency tree       \n",
            "Reading state information... Done\n",
            "python-opengl is already the newest version (3.1.0+dfsg-1).\n",
            "0 upgraded, 0 newly installed, 0 to remove and 37 not upgraded.\n",
            "Reading package lists... Done\n",
            "Building dependency tree       \n",
            "Reading state information... Done\n",
            "xvfb is already the newest version (2:1.19.6-1ubuntu4.10).\n",
            "0 upgraded, 0 newly installed, 0 to remove and 37 not upgraded.\n",
            "Requirement already satisfied: pyvirtualdisplay in /usr/local/lib/python3.7/dist-packages (2.2)\n",
            "Requirement already satisfied: EasyProcess in /usr/local/lib/python3.7/dist-packages (from pyvirtualdisplay) (1.1)\n",
            "Requirement already satisfied: piglet in /usr/local/lib/python3.7/dist-packages (1.0.0)\n",
            "Requirement already satisfied: piglet-templates in /usr/local/lib/python3.7/dist-packages (from piglet) (1.2.0)\n",
            "Requirement already satisfied: markupsafe in /usr/local/lib/python3.7/dist-packages (from piglet-templates->piglet) (2.0.1)\n",
            "Requirement already satisfied: pyparsing in /usr/local/lib/python3.7/dist-packages (from piglet-templates->piglet) (3.0.7)\n",
            "Requirement already satisfied: astunparse in /usr/local/lib/python3.7/dist-packages (from piglet-templates->piglet) (1.6.3)\n",
            "Requirement already satisfied: attrs in /usr/local/lib/python3.7/dist-packages (from piglet-templates->piglet) (21.4.0)\n",
            "Requirement already satisfied: six<2.0,>=1.6.1 in /usr/local/lib/python3.7/dist-packages (from astunparse->piglet-templates->piglet) (1.15.0)\n",
            "Requirement already satisfied: wheel<1.0,>=0.23.0 in /usr/local/lib/python3.7/dist-packages (from astunparse->piglet-templates->piglet) (0.37.1)\n"
          ]
        }
      ],
      "source": [
        "!apt-get install python-opengl -y\n",
        "\n",
        "!apt install xvfb -y\n",
        "\n",
        "!pip install pyvirtualdisplay\n",
        "\n",
        "!pip install piglet\n"
      ]
    },
    {
      "cell_type": "markdown",
      "metadata": {
        "id": "1lLo2SIuEJqO"
      },
      "source": [
        "# Import python dependencies"
      ]
    },
    {
      "cell_type": "code",
      "execution_count": 3,
      "metadata": {
        "colab": {
          "base_uri": "https://localhost:8080/"
        },
        "id": "9izU65woFEyL",
        "outputId": "49db83fe-4e6d-4a11-bd11-9ae978922d82"
      },
      "outputs": [
        {
          "name": "stderr",
          "output_type": "stream",
          "text": [
            "/usr/local/lib/python3.7/dist-packages/ale_py/roms/utils.py:90: DeprecationWarning: SelectableGroups dict interface is deprecated. Use select.\n",
            "  for external in metadata.entry_points().get(self.group, []):\n"
          ]
        }
      ],
      "source": [
        "import time\n",
        "import gym\n",
        "import random\n",
        "import torch\n",
        "import numpy as np\n",
        "from collections import deque\n",
        "import matplotlib.pyplot as plt\n",
        "from IPython.display import clear_output\n",
        "import tensorflow as tf\n",
        "import math\n",
        "\n",
        "%matplotlib inline"
      ]
    },
    {
      "cell_type": "markdown",
      "metadata": {
        "id": "FfvpuyMsEhHp"
      },
      "source": [
        "# start virtual display"
      ]
    },
    {
      "cell_type": "code",
      "execution_count": 4,
      "metadata": {
        "colab": {
          "base_uri": "https://localhost:8080/"
        },
        "id": "fikalgthv6yN",
        "outputId": "2a6bd59b-4df9-4838-89bf-f777c3652271"
      },
      "outputs": [
        {
          "data": {
            "text/plain": [
              "<pyvirtualdisplay.display.Display at 0x7f7aacb97b10>"
            ]
          },
          "execution_count": 4,
          "metadata": {},
          "output_type": "execute_result"
        }
      ],
      "source": [
        "from pyvirtualdisplay import Display\n",
        "Display().start()\n"
      ]
    },
    {
      "cell_type": "markdown",
      "metadata": {
        "id": "7r0CJqYDEe05"
      },
      "source": [
        "#import ai classes"
      ]
    },
    {
      "cell_type": "code",
      "execution_count": 5,
      "metadata": {
        "id": "a3KRYDE4FEyL"
      },
      "outputs": [],
      "source": [
        "import sys\n",
        "from agent import A2CAgent\n",
        "from models import ActorCnn, CriticCnn\n",
        "from stack_frame import preprocess_frame, stack_frame"
      ]
    },
    {
      "cell_type": "markdown",
      "metadata": {
        "id": "tfo8jleHGadK"
      },
      "source": [
        "# create environment"
      ]
    },
    {
      "cell_type": "code",
      "execution_count": 19,
      "metadata": {
        "colab": {
          "base_uri": "https://localhost:8080/"
        },
        "id": "HOa_BJRuFEyM",
        "outputId": "dc169fca-845d-4a33-ad7e-acde4d3d8d3c"
      },
      "outputs": [
        {
          "name": "stdout",
          "output_type": "stream",
          "text": [
            "Requirement already satisfied: gym[accept-rom-license,atari] in /usr/local/lib/python3.7/dist-packages (0.21.0)\n",
            "Requirement already satisfied: importlib-metadata>=4.8.1 in /usr/local/lib/python3.7/dist-packages (from gym[accept-rom-license,atari]) (4.10.1)\n",
            "Requirement already satisfied: cloudpickle>=1.2.0 in /usr/local/lib/python3.7/dist-packages (from gym[accept-rom-license,atari]) (1.3.0)\n",
            "Requirement already satisfied: numpy>=1.18.0 in /usr/local/lib/python3.7/dist-packages (from gym[accept-rom-license,atari]) (1.19.5)\n",
            "Requirement already satisfied: ale-py~=0.7.1 in /usr/local/lib/python3.7/dist-packages (from gym[accept-rom-license,atari]) (0.7.3)\n",
            "Requirement already satisfied: autorom[accept-rom-license]~=0.4.2 in /usr/local/lib/python3.7/dist-packages (from gym[accept-rom-license,atari]) (0.4.2)\n",
            "Requirement already satisfied: importlib-resources in /usr/local/lib/python3.7/dist-packages (from ale-py~=0.7.1->gym[accept-rom-license,atari]) (5.4.0)\n",
            "Requirement already satisfied: click in /usr/local/lib/python3.7/dist-packages (from autorom[accept-rom-license]~=0.4.2->gym[accept-rom-license,atari]) (7.1.2)\n",
            "Requirement already satisfied: requests in /usr/local/lib/python3.7/dist-packages (from autorom[accept-rom-license]~=0.4.2->gym[accept-rom-license,atari]) (2.23.0)\n",
            "Requirement already satisfied: tqdm in /usr/local/lib/python3.7/dist-packages (from autorom[accept-rom-license]~=0.4.2->gym[accept-rom-license,atari]) (4.62.3)\n",
            "Requirement already satisfied: AutoROM.accept-rom-license in /usr/local/lib/python3.7/dist-packages (from autorom[accept-rom-license]~=0.4.2->gym[accept-rom-license,atari]) (0.4.2)\n",
            "Requirement already satisfied: zipp>=0.5 in /usr/local/lib/python3.7/dist-packages (from importlib-metadata>=4.8.1->gym[accept-rom-license,atari]) (3.7.0)\n",
            "Requirement already satisfied: typing-extensions>=3.6.4 in /usr/local/lib/python3.7/dist-packages (from importlib-metadata>=4.8.1->gym[accept-rom-license,atari]) (3.10.0.2)\n",
            "Requirement already satisfied: urllib3!=1.25.0,!=1.25.1,<1.26,>=1.21.1 in /usr/local/lib/python3.7/dist-packages (from requests->autorom[accept-rom-license]~=0.4.2->gym[accept-rom-license,atari]) (1.24.3)\n",
            "Requirement already satisfied: idna<3,>=2.5 in /usr/local/lib/python3.7/dist-packages (from requests->autorom[accept-rom-license]~=0.4.2->gym[accept-rom-license,atari]) (2.10)\n",
            "Requirement already satisfied: certifi>=2017.4.17 in /usr/local/lib/python3.7/dist-packages (from requests->autorom[accept-rom-license]~=0.4.2->gym[accept-rom-license,atari]) (2021.10.8)\n",
            "Requirement already satisfied: chardet<4,>=3.0.2 in /usr/local/lib/python3.7/dist-packages (from requests->autorom[accept-rom-license]~=0.4.2->gym[accept-rom-license,atari]) (3.0.4)\n"
          ]
        },
        {
          "data": {
            "text/plain": [
              "(0, 592379725)"
            ]
          },
          "execution_count": 19,
          "metadata": {},
          "output_type": "execute_result"
        }
      ],
      "source": [
        "%pip install -U gym>=0.21.0\n",
        "%pip install -U gym[atari,accept-rom-license]\n",
        "env = gym.make('Bowling-v0')\n",
        "env.seed(0)"
      ]
    },
    {
      "cell_type": "markdown",
      "metadata": {
        "id": "nB5cwsYGEjf5"
      },
      "source": [
        "# set accelerator "
      ]
    },
    {
      "cell_type": "code",
      "execution_count": 20,
      "metadata": {
        "colab": {
          "base_uri": "https://localhost:8080/"
        },
        "id": "FPe1mB5JFEyM",
        "outputId": "6d9f9751-955a-43f5-802c-445e93e72e0c"
      },
      "outputs": [
        {
          "name": "stdout",
          "output_type": "stream",
          "text": [
            "Device:  cuda\n"
          ]
        }
      ],
      "source": [
        "# if gpu is to be used\n",
        "device = torch.device(\"cuda\" if torch.cuda.is_available() else \"cpu\")\n",
        "print(\"Device: \", device)"
      ]
    },
    {
      "cell_type": "markdown",
      "metadata": {
        "id": "nS221MgXGadP"
      },
      "source": [
        "# view Enviroment"
      ]
    },
    {
      "cell_type": "code",
      "execution_count": 21,
      "metadata": {
        "colab": {
          "base_uri": "https://localhost:8080/",
          "height": 316
        },
        "id": "rs-Khk5iFEyN",
        "outputId": "1a2d73f7-e677-4f4a-825b-9ad9d8a39ed0"
      },
      "outputs": [
        {
          "name": "stdout",
          "output_type": "stream",
          "text": [
            "The size of frame is:  (210, 160, 3)\n",
            "No. of Actions:  6\n"
          ]
        },
        {
          "data": {
            "image/png": "[encoded data removed]",
            "text/plain": [
              "<Figure size 432x288 with 1 Axes>"
            ]
          },
          "metadata": {
            "needs_background": "light"
          },
          "output_type": "display_data"
        }
      ],
      "source": [
        "print(\"The size of frame is: \", env.observation_space.shape)\n",
        "print(\"No. of Actions: \", env.action_space.n)\n",
        "env.reset()\n",
        "plt.figure()\n",
        "plt.imshow(env.reset())\n",
        "plt.title('Original Frame')\n",
        "plt.show()"
      ]
    },
    {
      "cell_type": "markdown",
      "metadata": {
        "id": "qy2s_J2EFEyN"
      },
      "source": [
        "### execute the code cell below to play with a random policy."
      ]
    },
    {
      "cell_type": "code",
      "execution_count": 22,
      "metadata": {
        "colab": {
          "base_uri": "https://localhost:8080/"
        },
        "id": "WQ3SMZxHFEyN",
        "outputId": "a663a7e9-7bf9-41ee-a368-dfac2ec913ae"
      },
      "outputs": [
        {
          "name": "stderr",
          "output_type": "stream",
          "text": [
            "/usr/local/lib/python3.7/dist-packages/gym/envs/atari/environment.py:257: UserWarning: \u001b[33mWARN: We strongly suggest supplying `render_mode` when constructing your environment, e.g., gym.make(ID, render_mode='human'). Using `render_mode` provides access to proper scaling, audio support, and proper framerates.\u001b[0m\n",
            "  \"We strongly suggest supplying `render_mode` when \"\n"
          ]
        },
        {
          "name": "stdout",
          "output_type": "stream",
          "text": [
            "Your Score at end of game is:  18.0\n"
          ]
        }
      ],
      "source": [
        "def random_play():\n",
        "    score = 0\n",
        "    env.reset()\n",
        "    while True:\n",
        "        env.render()\n",
        "        action = env.action_space.sample()\n",
        "        state, reward, done, _ = env.step(action)\n",
        "        score += reward\n",
        "        if done:\n",
        "            env.close()\n",
        "            print(\"Your Score at end of game is: \", score)\n",
        "            break\n",
        "random_play()"
      ]
    },
    {
      "cell_type": "markdown",
      "metadata": {
        "id": "Sr52nmcpGada"
      },
      "source": [
        "\n",
        "\n",
        "```\n",
        "# Sformatowano jako kod\n",
        "```\n",
        "\n",
        "# preprocessing frame"
      ]
    },
    {
      "cell_type": "code",
      "execution_count": 23,
      "metadata": {
        "colab": {
          "base_uri": "https://localhost:8080/",
          "height": 281
        },
        "id": "vduG7nB4FEyO",
        "outputId": "e27ab414-d850-4354-dbea-48554e13f1e7"
      },
      "outputs": [
        {
          "data": {
            "image/png": "[encoded data removed]",
            "text/plain": [
              "<Figure size 432x288 with 1 Axes>"
            ]
          },
          "metadata": {
            "needs_background": "light"
          },
          "output_type": "display_data"
        }
      ],
      "source": [
        "env.reset()\n",
        "plt.figure()\n",
        "plt.imshow(preprocess_frame(env.reset(), (8, -12, -12, 4), 84), cmap=\"gray\")\n",
        "plt.title('Pre Processed image')\n",
        "plt.show()"
      ]
    },
    {
      "cell_type": "markdown",
      "metadata": {
        "id": "mJMc3HA8Gade"
      },
      "source": [
        "# stacking frame"
      ]
    },
    {
      "cell_type": "code",
      "execution_count": 24,
      "metadata": {
        "id": "Wm2XL8yQFEyO"
      },
      "outputs": [],
      "source": [
        "def stack_frames(frames, state, is_new=False):\n",
        "    frame = preprocess_frame(state, (8, -12, -12, 4), 84)\n",
        "    frames = stack_frame(frames, frame, is_new)\n",
        "\n",
        "    return frames\n",
        "    "
      ]
    },
    {
      "cell_type": "markdown",
      "metadata": {
        "id": "cRQvhJAhFEyP"
      },
      "source": [
        "# creating agent"
      ]
    },
    {
      "cell_type": "code",
      "execution_count": 25,
      "metadata": {
        "id": "xqn7eqa7FEyP"
      },
      "outputs": [],
      "source": [
        "INPUT_SHAPE = (4, 84, 84)\n",
        "ACTION_SIZE = env.action_space.n\n",
        "SEED = 0\n",
        "GAMMA = 0.99           # discount factor\n",
        "ALPHA= 0.0001          # Actor learning rate\n",
        "BETA = 0.0005          # Critic learning rate\n",
        "UPDATE_EVERY = 100     # how often to update the network \n",
        "\n",
        "agent = A2CAgent(INPUT_SHAPE, ACTION_SIZE, SEED, device, GAMMA, ALPHA, BETA, UPDATE_EVERY, ActorCnn, CriticCnn)"
      ]
    },
    {
      "cell_type": "markdown",
      "metadata": {
        "id": "-aF-HIeoFEyP"
      },
      "source": [
        "# run untrained agent play"
      ]
    },
    {
      "cell_type": "code",
      "execution_count": 26,
      "metadata": {
        "colab": {
          "base_uri": "https://localhost:8080/"
        },
        "id": "1oLUiZAfFEyP",
        "outputId": "fa0749cf-7c8e-4404-dff0-210620aed603"
      },
      "outputs": [
        {
          "name": "stderr",
          "output_type": "stream",
          "text": [
            "/usr/local/lib/python3.7/dist-packages/gym/envs/atari/environment.py:257: UserWarning: \u001b[33mWARN: We strongly suggest supplying `render_mode` when constructing your environment, e.g., gym.make(ID, render_mode='human'). Using `render_mode` provides access to proper scaling, audio support, and proper framerates.\u001b[0m\n",
            "  \"We strongly suggest supplying `render_mode` when \"\n"
          ]
        }
      ],
      "source": [
        "\n",
        "state = stack_frames(None, env.reset(), True) \n",
        "for j in range(200):\n",
        "    env.render()\n",
        "    action, _, _ = agent.act(state)\n",
        "    next_state, reward, done, _ = env.step(action)\n",
        "    state = stack_frames(state, next_state, False)\n",
        "    if done:\n",
        "        break \n",
        "        \n",
        "env.close()"
      ]
    },
    {
      "cell_type": "markdown",
      "metadata": {
        "id": "OMG_qzggFEyQ"
      },
      "source": [
        "# loading agent\n",
        "Uncomment line to load a pretrained agent"
      ]
    },
    {
      "cell_type": "code",
      "execution_count": 27,
      "metadata": {
        "id": "e9k_c5qlFEyQ"
      },
      "outputs": [],
      "source": [
        "start_epoch = 0\n",
        "scores = []\n",
        "scores_window = deque(maxlen=20)"
      ]
    },
    {
      "cell_type": "markdown",
      "metadata": {
        "id": "69prrHXhFEyQ"
      },
      "source": [
        "# train the agent with DQN"
      ]
    },
    {
      "cell_type": "code",
      "execution_count": 28,
      "metadata": {
        "id": "YoqkmnWmFEyQ"
      },
      "outputs": [],
      "source": [
        "def train(n_episodes=1000):\n",
        "    \"\"\"\n",
        "    Params\n",
        "    ======\n",
        "        n_episodes (int): maximum number of training episodes\n",
        "    \"\"\"\n",
        "    for i_episode in range(start_epoch + 1, n_episodes+1):\n",
        "        state = stack_frames(None, env.reset(), True)\n",
        "        score = 0\n",
        "        while True:\n",
        "            action, log_prob, entropy = agent.act(state)\n",
        "            next_state, reward, done, info = env.step(action)\n",
        "            score += reward\n",
        "            next_state = stack_frames(state, next_state, False)\n",
        "            agent.step(state, log_prob, entropy, reward, done, next_state)\n",
        "            state = next_state\n",
        "            if done:\n",
        "                break\n",
        "        scores_window.append(score)       # save most recent score\n",
        "        scores.append(score)              # save most recent score\n",
        "        \n",
        "        clear_output(True)\n",
        "        fig = plt.figure()\n",
        "        ax = fig.add_subplot(111)\n",
        "        plt.plot(np.arange(len(scores)), scores)\n",
        "        plt.ylabel('Score')\n",
        "        plt.xlabel('Episode #')\n",
        "        plt.show()\n",
        "        print('\\rEpisode {}\\tAverage Score: {:.2f}'.format(i_episode, np.mean(scores_window)), end=\"\")\n",
        "    \n",
        "    return scores"
      ]
    },
    {
      "cell_type": "code",
      "execution_count": 29,
      "metadata": {
        "colab": {
          "base_uri": "https://localhost:8080/",
          "height": 296
        },
        "id": "bgLFix3DCPI8",
        "outputId": "4da6d824-0c9f-47cd-afd5-dfd3d1512d16"
      },
      "outputs": [
        {
          "data": {
            "image/png": "[encoded data removed]",
            "text/plain": [
              "<Figure size 432x288 with 1 Axes>"
            ]
          },
          "metadata": {
            "needs_background": "light"
          },
          "output_type": "display_data"
        },
        {
          "name": "stdout",
          "output_type": "stream",
          "text": [
            "\rEpisode 100\tAverage Score: 23.00"
          ]
        }
      ],
      "source": [
        "scores = train(100)"
      ]
    },
    {
      "cell_type": "markdown",
      "metadata": {
        "id": "0ava8fxvFEyR"
      },
      "source": [
        "# run learnt agent"
      ]
    },
    {
      "cell_type": "code",
      "execution_count": 30,
      "metadata": {
        "colab": {
          "base_uri": "https://localhost:8080/"
        },
        "id": "FaGTg898FEyR",
        "outputId": "24edee5a-c9d6-4f2b-864c-19f03d6b2ad4"
      },
      "outputs": [
        {
          "name": "stderr",
          "output_type": "stream",
          "text": [
            "/usr/local/lib/python3.7/dist-packages/gym/envs/atari/environment.py:257: UserWarning: \u001b[33mWARN: We strongly suggest supplying `render_mode` when constructing your environment, e.g., gym.make(ID, render_mode='human'). Using `render_mode` provides access to proper scaling, audio support, and proper framerates.\u001b[0m\n",
            "  \"We strongly suggest supplying `render_mode` when \"\n"
          ]
        },
        {
          "name": "stdout",
          "output_type": "stream",
          "text": [
            "You Final score is: 25.0\n"
          ]
        }
      ],
      "source": [
        "score = 0\n",
        "state = stack_frames(None, env.reset(), True)\n",
        "while True:\n",
        "    env.render()\n",
        "    action, _, _ = agent.act(state)\n",
        "    next_state, reward, done, _ = env.step(action)\n",
        "    score += reward\n",
        "    state = stack_frames(state, next_state, False)\n",
        "    if done:\n",
        "        print(\"You Final score is:\", score)\n",
        "        break \n",
        "env.close()"
      ]
    }
  ],
  "metadata": {
    "accelerator": "GPU",
    "colab": {
      "collapsed_sections": [],
      "name": "space_invader.ipynb",
      "provenance": []
    },
    "kernelspec": {
      "display_name": "Python 3",
      "language": "python",
      "name": "python3"
    },
    "language_info": {
      "codemirror_mode": {
        "name": "ipython",
        "version": 3
      },
      "file_extension": ".py",
      "mimetype": "text/x-python",
      "name": "python",
      "nbconvert_exporter": "python",
      "pygments_lexer": "ipython3",
      "version": "3.9.10"
    }
  },
  "nbformat": 4,
  "nbformat_minor": 0
}
